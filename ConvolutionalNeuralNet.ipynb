{
  "nbformat": 4,
  "nbformat_minor": 0,
  "metadata": {
    "colab": {
      "provenance": []
    },
    "kernelspec": {
      "name": "python3",
      "display_name": "Python 3"
    },
    "language_info": {
      "name": "python"
    }
  },
  "cells": [
    {
      "cell_type": "code",
      "execution_count": null,
      "metadata": {
        "id": "3QMT4tVxo3xf",
        "colab": {
          "base_uri": "https://localhost:8080/"
        },
        "outputId": "9bfc6bbc-e0e1-405b-a69e-bf73ed631789"
      },
      "outputs": [
        {
          "output_type": "stream",
          "name": "stdout",
          "text": [
            "Drive already mounted at /content/gdrive; to attempt to forcibly remount, call drive.mount(\"/content/gdrive\", force_remount=True).\n"
          ]
        }
      ],
      "source": [
        "# import data\n",
        "from google.colab import drive\n",
        "drive.mount('/content/gdrive')"
      ]
    },
    {
      "cell_type": "code",
      "source": [
        "import pandas as pd\n",
        "import numpy as np\n",
        "import glob\n",
        "import matplotlib.pyplot as plt\n",
        "\n",
        "import tensorflow as tf\n",
        "from tensorflow.keras.preprocessing.image import ImageDataGenerator\n",
        "from tensorflow.keras.utils import to_categorical\n",
        "from tensorflow.keras.models import Model, Sequential\n",
        "from tensorflow.keras.layers import Input, Dense, BatchNormalization, Activation, Dropout\n",
        "from keras.callbacks import ReduceLROnPlateau\n",
        "from tensorflow.keras.optimizers import Adam\n",
        "from sklearn import preprocessing\n",
        "from sklearn.model_selection import train_test_split\n",
        "from sklearn.metrics import confusion_matrix, roc_curve"
      ],
      "metadata": {
        "id": "wRcSOPx5o6nr"
      },
      "execution_count": null,
      "outputs": []
    },
    {
      "cell_type": "code",
      "source": [
        "# Plotting utility\n",
        "from IPython.display import clear_output\n",
        "class PlotLosses(tf.keras.callbacks.Callback):\n",
        "    def __init__(self):\n",
        "        self.i = 0\n",
        "        self.x = []\n",
        "        self.losses = []\n",
        "        self.val_losses = []\n",
        "        self.acc = []\n",
        "        self.val_acc = []\n",
        "\n",
        "        self.fig = plt.figure()\n",
        "\n",
        "        self.logs = []\n",
        "\n",
        "    def on_epoch_end(self, epoch, logs={}):\n",
        "\n",
        "        self.logs.append(logs)\n",
        "        self.x.append(self.i)\n",
        "        self.losses.append(logs.get('loss'))\n",
        "        self.val_losses.append(logs.get('val_loss'))\n",
        "\n",
        "        self.acc.append(logs.get('accuracy'))\n",
        "        self.val_acc.append(logs.get('val_accuracy'))\n",
        "        self.i += 1\n",
        "\n",
        "        clear_output(wait=True)\n",
        "        fig, axes = plt.subplots(1,2,figsize=(8,3))\n",
        "\n",
        "        axes[0].plot(self.x, self.losses, label=\"Train loss\")\n",
        "        axes[0].plot(self.x, self.val_losses, label=\"Validation loss\")\n",
        "        # axes[0].set_yscale('log')\n",
        "        axes[0].set_xlabel('Number of epochs')\n",
        "        axes[0].set_ylabel('Losses')\n",
        "        axes[0].legend()\n",
        "\n",
        "        axes[1].plot(self.x, self.acc, label=\"Train accuracy\")\n",
        "        axes[1].plot(self.x, self.val_acc, label=\"Validation accuracy\")\n",
        "        axes[1].set_xlabel('Number of epochs')\n",
        "        axes[1].set_ylabel('Accuracy')\n",
        "        # axes[1].set_ylim(0.85,1.)\n",
        "        axes[1].legend()\n",
        "\n",
        "        plt.tight_layout()\n",
        "        plt.show();"
      ],
      "metadata": {
        "id": "pWoE1PMAo9ak"
      },
      "execution_count": null,
      "outputs": []
    },
    {
      "cell_type": "code",
      "source": [
        "nupur_path = '/content/gdrive/MyDrive/Colab Notebooks'\n",
        "sophia_path = '/content/gdrive/MyDrive/Colab Notebooks'\n",
        "afham_path = '/content/gdrive/MyDive/Colab Notebooks'"
      ],
      "metadata": {
        "id": "YrHR0NpLo96n"
      },
      "execution_count": null,
      "outputs": []
    },
    {
      "cell_type": "code",
      "source": [
        "data_dir = sophia_path"
      ],
      "metadata": {
        "id": "DMG31hgZpCBn"
      },
      "execution_count": null,
      "outputs": []
    },
    {
      "cell_type": "code",
      "source": [
        "# load images as matrices with a defined shape, create the input and output for the CNN\n",
        "batch_size = 128\n",
        "img_height = 128\n",
        "img_width = 128\n",
        "\n",
        "train_ds = tf.keras.utils.image_dataset_from_directory(\n",
        "    data_dir,\n",
        "    validation_split=0.2,\n",
        "    subset=\"training\",\n",
        "    seed=123,\n",
        "    image_size=(img_height, img_width),\n",
        "    batch_size=batch_size,\n",
        "    color_mode=\"grayscale\")\n",
        "\n",
        "val_ds = tf.keras.utils.image_dataset_from_directory(\n",
        "  data_dir,\n",
        "  validation_split=0.2,\n",
        "  subset=\"validation\",\n",
        "  seed=123,\n",
        "  image_size=(img_height, img_width),\n",
        "  batch_size=batch_size,\n",
        "    color_mode=\"grayscale\")"
      ],
      "metadata": {
        "id": "uw_HBLyKqcdt",
        "colab": {
          "base_uri": "https://localhost:8080/"
        },
        "outputId": "36ae3bed-838c-4a7c-94c9-c4ad77dbee12"
      },
      "execution_count": null,
      "outputs": [
        {
          "output_type": "stream",
          "name": "stdout",
          "text": [
            "Found 1372 files belonging to 2 classes.\n",
            "Using 1098 files for training.\n",
            "Found 1372 files belonging to 2 classes.\n",
            "Using 274 files for validation.\n"
          ]
        }
      ]
    },
    {
      "cell_type": "code",
      "source": [
        "# normalize datasets\n",
        "\n",
        "normalization_layer = tf.keras.layers.Rescaling(1./255)\n",
        "normalized_ds = train_ds.map(lambda x, y: (normalization_layer(x), y))\n",
        "image_batch, labels_batch = next(iter(normalized_ds))\n",
        "first_image = image_batch[0]\n",
        "\n",
        "print(np.min(first_image), np.max(first_image))"
      ],
      "metadata": {
        "id": "K9B6BYyRw4_t",
        "colab": {
          "base_uri": "https://localhost:8080/"
        },
        "outputId": "24cfc1e9-6eeb-489f-e6d3-6264527b2ee1"
      },
      "execution_count": null,
      "outputs": [
        {
          "output_type": "stream",
          "name": "stdout",
          "text": [
            "0.0063036154 0.38747704\n"
          ]
        }
      ]
    },
    {
      "cell_type": "code",
      "source": [
        "# build the CNN and train\n",
        "\n",
        "num_classes = 2\n",
        "\n",
        "model = tf.keras.Sequential([\n",
        "  tf.keras.layers.Rescaling(1./255),\n",
        "  tf.keras.layers.Conv2D(6, 3, activation='relu'),\n",
        "  tf.keras.layers.MaxPooling2D(),\n",
        "  tf.keras.layers.Flatten(),\n",
        "  tf.keras.layers.Dense(6, activation='relu'),\n",
        "  tf.keras.layers.Dense(num_classes, activation='softmax')\n",
        "])\n",
        "\n",
        "plot_losses = PlotLosses();\n",
        "\n",
        "model.build((None, img_height, img_width, 1))\n",
        "\n",
        "model.summary()\n",
        "\n"
      ],
      "metadata": {
        "id": "vmpimMSBpF1W",
        "colab": {
          "base_uri": "https://localhost:8080/",
          "height": 428
        },
        "outputId": "5e3cbcea-768b-449c-9c1d-0822c9e8c037"
      },
      "execution_count": null,
      "outputs": [
        {
          "output_type": "stream",
          "name": "stdout",
          "text": [
            "Model: \"sequential_10\"\n",
            "_________________________________________________________________\n",
            " Layer (type)                Output Shape              Param #   \n",
            "=================================================================\n",
            " rescaling_11 (Rescaling)    (None, 128, 128, 1)       0         \n",
            "                                                                 \n",
            " conv2d_10 (Conv2D)          (None, 126, 126, 6)       60        \n",
            "                                                                 \n",
            " max_pooling2d_10 (MaxPooli  (None, 63, 63, 6)         0         \n",
            " ng2D)                                                           \n",
            "                                                                 \n",
            " flatten_10 (Flatten)        (None, 23814)             0         \n",
            "                                                                 \n",
            " dense_20 (Dense)            (None, 6)                 142890    \n",
            "                                                                 \n",
            " dense_21 (Dense)            (None, 2)                 14        \n",
            "                                                                 \n",
            "=================================================================\n",
            "Total params: 142964 (558.45 KB)\n",
            "Trainable params: 142964 (558.45 KB)\n",
            "Non-trainable params: 0 (0.00 Byte)\n",
            "_________________________________________________________________\n"
          ]
        },
        {
          "output_type": "display_data",
          "data": {
            "text/plain": [
              "<Figure size 640x480 with 0 Axes>"
            ]
          },
          "metadata": {}
        }
      ]
    },
    {
      "cell_type": "code",
      "source": [
        "# look at performance\n",
        "\n",
        "model.compile(\n",
        "  optimizer='adam',\n",
        "  loss=tf.keras.losses.SparseCategoricalCrossentropy(from_logits=True),\n",
        "  metrics=['accuracy'])\n",
        "\n",
        "\n",
        "model.fit(\n",
        "  train_ds,\n",
        "  validation_data=val_ds,\n",
        "  epochs=10, callbacks=[plot_losses]\n",
        "  )\n",
        "\n",
        "model.predict(train_ds)"
      ],
      "metadata": {
        "id": "PLa2lFq0pHTZ",
        "colab": {
          "base_uri": "https://localhost:8080/",
          "height": 463
        },
        "outputId": "f5ff2bbb-ed78-4f5f-8fa9-e18e484fc831"
      },
      "execution_count": null,
      "outputs": [
        {
          "output_type": "display_data",
          "data": {
            "text/plain": [
              "<Figure size 800x300 with 2 Axes>"
            ],
            "image/png": "[encoded data removed]"
          },
          "metadata": {}
        },
        {
          "output_type": "stream",
          "name": "stdout",
          "text": [
            "9/9 [==============================] - 12s 835ms/step - loss: 0.0254 - accuracy: 0.9982 - val_loss: 0.0207 - val_accuracy: 1.0000\n",
            "9/9 [==============================] - 6s 211ms/step\n"
          ]
        },
        {
          "output_type": "execute_result",
          "data": {
            "text/plain": [
              "array([[0.9803359 , 0.01966405],\n",
              "       [0.00321902, 0.996781  ],\n",
              "       [0.97738856, 0.02261142],\n",
              "       ...,\n",
              "       [0.00555775, 0.9944424 ],\n",
              "       [0.08401965, 0.9159803 ],\n",
              "       [0.99140316, 0.00859691]], dtype=float32)"
            ]
          },
          "metadata": {},
          "execution_count": 51
        }
      ]
    },
    {
      "cell_type": "code",
      "source": [
        "print(model.predict(train_ds))\n",
        "print(model.predict(val_ds))"
      ],
      "metadata": {
        "colab": {
          "base_uri": "https://localhost:8080/"
        },
        "id": "XR7w8PynwhKx",
        "outputId": "e9aa28cb-7e07-4607-ddf5-ebeff05146d2"
      },
      "execution_count": null,
      "outputs": [
        {
          "output_type": "stream",
          "name": "stdout",
          "text": [
            "9/9 [==============================] - 7s 328ms/step\n",
            "[[0.00544732 0.9945526 ]\n",
            " [0.9800988  0.0199012 ]\n",
            " [0.00327134 0.9967286 ]\n",
            " ...\n",
            " [0.00587024 0.99412966]\n",
            " [0.00753463 0.9924654 ]\n",
            " [0.98202604 0.01797396]]\n",
            "3/3 [==============================] - 2s 129ms/step\n",
            "[[0.11492658 0.88507336]\n",
            " [0.9886859  0.01131418]\n",
            " [0.08812994 0.91187   ]\n",
            " [0.98253095 0.0174691 ]\n",
            " [0.98138213 0.01861772]\n",
            " [0.98276144 0.01723861]\n",
            " [0.01279289 0.9872071 ]\n",
            " [0.00677802 0.99322194]\n",
            " [0.07620962 0.9237904 ]\n",
            " [0.00724677 0.99275327]\n",
            " [0.97687954 0.0231205 ]\n",
            " [0.003441   0.9965589 ]\n",
            " [0.00478992 0.99521005]\n",
            " [0.9813742  0.01862579]\n",
            " [0.9858876  0.01411256]\n",
            " [0.9809005  0.01909946]\n",
            " [0.9771315  0.02286853]\n",
            " [0.00465275 0.9953472 ]\n",
            " [0.00925629 0.9907437 ]\n",
            " [0.19610138 0.80389863]\n",
            " [0.9799979  0.02000217]\n",
            " [0.01480003 0.9851999 ]\n",
            " [0.9841516  0.01584842]\n",
            " [0.98457825 0.01542165]\n",
            " [0.39191127 0.6080887 ]\n",
            " [0.9814108  0.0185892 ]\n",
            " [0.97944516 0.02055479]\n",
            " [0.04812366 0.9518763 ]\n",
            " [0.9833859  0.01661408]\n",
            " [0.00259033 0.9974096 ]\n",
            " [0.9861949  0.01380507]\n",
            " [0.98074967 0.0192503 ]\n",
            " [0.00506809 0.9949319 ]\n",
            " [0.98026913 0.01973079]\n",
            " [0.00159443 0.99840564]\n",
            " [0.9810707  0.01892932]\n",
            " [0.00405175 0.99594814]\n",
            " [0.99182343 0.00817647]\n",
            " [0.00425803 0.99574196]\n",
            " [0.9884503  0.0115497 ]\n",
            " [0.98012686 0.01987319]\n",
            " [0.04183105 0.9581689 ]\n",
            " [0.05874522 0.94125473]\n",
            " [0.9843881  0.01561183]\n",
            " [0.00782378 0.99217623]\n",
            " [0.9820979  0.01790204]\n",
            " [0.9745217  0.02547825]\n",
            " [0.98011667 0.0198833 ]\n",
            " [0.0038315  0.9961684 ]\n",
            " [0.01689757 0.98310244]\n",
            " [0.9781348  0.02186513]\n",
            " [0.9788603  0.02113969]\n",
            " [0.983352   0.01664802]\n",
            " [0.01595988 0.98404014]\n",
            " [0.00270833 0.9972916 ]\n",
            " [0.00136223 0.99863774]\n",
            " [0.99023503 0.00976497]\n",
            " [0.00746296 0.99253696]\n",
            " [0.00114781 0.9988522 ]\n",
            " [0.01680361 0.9831963 ]\n",
            " [0.01018592 0.989814  ]\n",
            " [0.98315823 0.01684178]\n",
            " [0.03899068 0.9610092 ]\n",
            " [0.0028997  0.99710035]\n",
            " [0.03633405 0.9636659 ]\n",
            " [0.00261738 0.9973826 ]\n",
            " [0.03232885 0.9676712 ]\n",
            " [0.9882661  0.01173396]\n",
            " [0.97960377 0.0203963 ]\n",
            " [0.01900826 0.9809916 ]\n",
            " [0.9816948  0.0183051 ]\n",
            " [0.9787804  0.0212196 ]\n",
            " [0.01250325 0.98749673]\n",
            " [0.9835785  0.01642144]\n",
            " [0.97436124 0.02563865]\n",
            " [0.003465   0.99653494]\n",
            " [0.98144794 0.01855208]\n",
            " [0.97801083 0.02198902]\n",
            " [0.97692055 0.02307942]\n",
            " [0.00895624 0.99104387]\n",
            " [0.0284381  0.97156185]\n",
            " [0.9843485  0.01565146]\n",
            " [0.97379494 0.02620499]\n",
            " [0.9781103  0.02188969]\n",
            " [0.01057776 0.98942226]\n",
            " [0.97922736 0.02077258]\n",
            " [0.97562385 0.02437611]\n",
            " [0.00168267 0.9983173 ]\n",
            " [0.00244936 0.99755055]\n",
            " [0.9896021  0.01039797]\n",
            " [0.984029   0.01597103]\n",
            " [0.00359899 0.99640095]\n",
            " [0.9848433  0.01515667]\n",
            " [0.00304937 0.9969507 ]\n",
            " [0.982558   0.01744193]\n",
            " [0.9784352  0.02156474]\n",
            " [0.98221946 0.01778052]\n",
            " [0.04505093 0.9549491 ]\n",
            " [0.00305104 0.996949  ]\n",
            " [0.00496384 0.99503624]\n",
            " [0.02928695 0.9707131 ]\n",
            " [0.00300089 0.9969991 ]\n",
            " [0.9772395  0.02276052]\n",
            " [0.98654366 0.01345624]\n",
            " [0.0418971  0.95810294]\n",
            " [0.9836401  0.01635989]\n",
            " [0.977491   0.02250894]\n",
            " [0.9840671  0.01593283]\n",
            " [0.9835255  0.01647452]\n",
            " [0.98639935 0.01360063]\n",
            " [0.98116344 0.0188365 ]\n",
            " [0.98119277 0.01880731]\n",
            " [0.02164445 0.97835547]\n",
            " [0.00965929 0.99034065]\n",
            " [0.9785102  0.02148978]\n",
            " [0.9849432  0.01505669]\n",
            " [0.00543387 0.99456614]\n",
            " [0.00415771 0.9958423 ]\n",
            " [0.98328567 0.01671435]\n",
            " [0.00247644 0.9975236 ]\n",
            " [0.98059875 0.0194013 ]\n",
            " [0.00386851 0.9961315 ]\n",
            " [0.98254055 0.01745943]\n",
            " [0.9903505  0.00964946]\n",
            " [0.98176503 0.01823494]\n",
            " [0.9833109  0.01668915]\n",
            " [0.99001765 0.00998235]\n",
            " [0.0033461  0.99665385]\n",
            " [0.00239843 0.99760145]\n",
            " [0.00399672 0.9960032 ]\n",
            " [0.02945824 0.97054166]\n",
            " [0.98253167 0.01746833]\n",
            " [0.00283102 0.99716896]\n",
            " [0.98214746 0.01785249]\n",
            " [0.00487757 0.9951223 ]\n",
            " [0.98024017 0.01975971]\n",
            " [0.00278086 0.9972191 ]\n",
            " [0.01581093 0.98418915]\n",
            " [0.00183424 0.9981657 ]\n",
            " [0.00121595 0.99878407]\n",
            " [0.97650886 0.02349126]\n",
            " [0.00372702 0.99627304]\n",
            " [0.00406805 0.99593186]\n",
            " [0.11389393 0.886106  ]\n",
            " [0.97903234 0.02096756]\n",
            " [0.02510055 0.9748995 ]\n",
            " [0.9846415  0.01535851]\n",
            " [0.978548   0.02145198]\n",
            " [0.02009043 0.97990954]\n",
            " [0.00453859 0.99546146]\n",
            " [0.00372852 0.9962715 ]\n",
            " [0.9895367  0.01046324]\n",
            " [0.0242198  0.9757802 ]\n",
            " [0.9842883  0.01571166]\n",
            " [0.00313884 0.9968612 ]\n",
            " [0.9880791  0.01192092]\n",
            " [0.00295843 0.99704146]\n",
            " [0.98902917 0.0109708 ]\n",
            " [0.00173534 0.99826473]\n",
            " [0.97341335 0.02658658]\n",
            " [0.0030584  0.9969417 ]\n",
            " [0.00329764 0.9967024 ]\n",
            " [0.98080206 0.01919789]\n",
            " [0.980635   0.01936496]\n",
            " [0.01077847 0.98922145]\n",
            " [0.979363   0.02063694]\n",
            " [0.03397347 0.9660264 ]\n",
            " [0.9803208  0.01967905]\n",
            " [0.982613   0.01738692]\n",
            " [0.98112565 0.01887447]\n",
            " [0.9865678  0.01343229]\n",
            " [0.9756243  0.02437567]\n",
            " [0.97679013 0.02320993]\n",
            " [0.98124707 0.01875303]\n",
            " [0.00260734 0.99739265]\n",
            " [0.98854643 0.01145349]\n",
            " [0.982783   0.01721696]\n",
            " [0.9800085  0.01999153]\n",
            " [0.98512286 0.01487717]\n",
            " [0.983842   0.01615793]\n",
            " [0.0034686  0.99653137]\n",
            " [0.98135936 0.01864066]\n",
            " [0.9785654  0.02143459]\n",
            " [0.98653966 0.01346036]\n",
            " [0.9750167  0.02498325]\n",
            " [0.00817803 0.99182194]\n",
            " [0.9738254  0.02617461]\n",
            " [0.9732218  0.02677808]\n",
            " [0.97463334 0.02536662]\n",
            " [0.9743027  0.02569732]\n",
            " [0.0037806  0.99621946]\n",
            " [0.98209333 0.01790657]\n",
            " [0.00450403 0.99549586]\n",
            " [0.00221951 0.9977805 ]\n",
            " [0.02919586 0.97080415]\n",
            " [0.9819152  0.01808479]\n",
            " [0.99120253 0.00879753]\n",
            " [0.98543614 0.01456382]\n",
            " [0.01187863 0.9881214 ]\n",
            " [0.00416256 0.9958375 ]\n",
            " [0.98123664 0.01876329]\n",
            " [0.0035372  0.9964628 ]\n",
            " [0.9791046  0.02089543]\n",
            " [0.97919995 0.02080005]\n",
            " [0.98139656 0.01860344]\n",
            " [0.02617377 0.97382617]\n",
            " [0.98079    0.01920998]\n",
            " [0.97389823 0.02610168]\n",
            " [0.9829924  0.01700766]\n",
            " [0.9872313  0.0127686 ]\n",
            " [0.99137217 0.00862783]\n",
            " [0.05650857 0.94349146]\n",
            " [0.9800433  0.01995672]\n",
            " [0.00544558 0.9945544 ]\n",
            " [0.9849619  0.01503817]\n",
            " [0.9827483  0.01725169]\n",
            " [0.00465748 0.99534243]\n",
            " [0.9794755  0.02052442]\n",
            " [0.9835948  0.01640518]\n",
            " [0.9887104  0.01128954]\n",
            " [0.9787417  0.02125831]\n",
            " [0.00361834 0.9963816 ]\n",
            " [0.00989648 0.9901034 ]\n",
            " [0.9828302  0.01716969]\n",
            " [0.98411685 0.01588312]\n",
            " [0.9818419  0.01815812]\n",
            " [0.00552492 0.99447507]\n",
            " [0.9754218  0.02457821]\n",
            " [0.9721158  0.02788419]\n",
            " [0.9852139  0.01478603]\n",
            " [0.9873917  0.01260819]\n",
            " [0.00613944 0.9938606 ]\n",
            " [0.0024267  0.99757326]\n",
            " [0.9765361  0.02346384]\n",
            " [0.98383135 0.01616853]\n",
            " [0.03403386 0.96596605]\n",
            " [0.9737366  0.0262635 ]\n",
            " [0.04416267 0.95583737]\n",
            " [0.9918283  0.0081716 ]\n",
            " [0.98558825 0.01441169]\n",
            " [0.0561857  0.9438142 ]\n",
            " [0.17502773 0.82497233]\n",
            " [0.00240898 0.997591  ]\n",
            " [0.00381877 0.99618125]\n",
            " [0.981542   0.018458  ]\n",
            " [0.9933381  0.00666192]\n",
            " [0.9818585  0.0181414 ]\n",
            " [0.00783252 0.99216735]\n",
            " [0.99177605 0.00822393]\n",
            " [0.00985251 0.9901475 ]\n",
            " [0.01646787 0.9835321 ]\n",
            " [0.98124075 0.01875922]\n",
            " [0.9831942  0.01680576]\n",
            " [0.01559025 0.98440975]\n",
            " [0.9723452  0.02765476]\n",
            " [0.06189575 0.9381042 ]\n",
            " [0.98093516 0.01906492]\n",
            " [0.9786745  0.02132561]\n",
            " [0.9743803  0.02561964]\n",
            " [0.02853957 0.9714603 ]\n",
            " [0.05931893 0.94068104]\n",
            " [0.98865384 0.01134621]\n",
            " [0.96149945 0.03850051]\n",
            " [0.00415662 0.9958433 ]\n",
            " [0.977791   0.02220899]\n",
            " [0.9827023  0.01729761]\n",
            " [0.97970045 0.0202996 ]\n",
            " [0.00729399 0.9927059 ]\n",
            " [0.98100764 0.01899234]\n",
            " [0.9853687  0.01463126]\n",
            " [0.9823864  0.01761355]\n",
            " [0.9790043  0.02099561]\n",
            " [0.9912752  0.00872475]\n",
            " [0.00239588 0.9976042 ]]\n"
          ]
        }
      ]
    },
    {
      "cell_type": "code",
      "source": [
        "classes = np.argmax(model.predict(val_ds), axis=1)\n",
        "print(np.shape(classes))"
      ],
      "metadata": {
        "colab": {
          "base_uri": "https://localhost:8080/"
        },
        "id": "LkyfgFX94zfd",
        "outputId": "f5f7c5ea-a768-403a-dfa1-10fd02401768"
      },
      "execution_count": null,
      "outputs": [
        {
          "output_type": "stream",
          "name": "stdout",
          "text": [
            "(274,)\n"
          ]
        }
      ]
    },
    {
      "cell_type": "code",
      "source": [
        "y_val = list(val_ds.class_indices)\n",
        "print(y_val)"
      ],
      "metadata": {
        "colab": {
          "base_uri": "https://localhost:8080/",
          "height": 162
        },
        "id": "fZSs9owL5W9u",
        "outputId": "b1b45d60-fa44-4fec-92cc-03b37de7b948"
      },
      "execution_count": null,
      "outputs": [
        {
          "output_type": "error",
          "ename": "AttributeError",
          "evalue": "'_PrefetchDataset' object has no attribute 'class_indices'",
          "traceback": [
            "\u001b[0;31m---------------------------------------------------------------------------\u001b[0m",
            "\u001b[0;31mAttributeError\u001b[0m                            Traceback (most recent call last)",
            "\u001b[0;32m<ipython-input-72-d65d10718d86>\u001b[0m in \u001b[0;36m<cell line: 1>\u001b[0;34m()\u001b[0m\n\u001b[0;32m----> 1\u001b[0;31m \u001b[0my_val\u001b[0m \u001b[0;34m=\u001b[0m \u001b[0mlist\u001b[0m\u001b[0;34m(\u001b[0m\u001b[0mval_ds\u001b[0m\u001b[0;34m.\u001b[0m\u001b[0mclass_indices\u001b[0m\u001b[0;34m)\u001b[0m\u001b[0;34m\u001b[0m\u001b[0;34m\u001b[0m\u001b[0m\n\u001b[0m\u001b[1;32m      2\u001b[0m \u001b[0mprint\u001b[0m\u001b[0;34m(\u001b[0m\u001b[0my_val\u001b[0m\u001b[0;34m)\u001b[0m\u001b[0;34m\u001b[0m\u001b[0;34m\u001b[0m\u001b[0m\n",
            "\u001b[0;31mAttributeError\u001b[0m: '_PrefetchDataset' object has no attribute 'class_indices'"
          ]
        }
      ]
    },
    {
      "cell_type": "code",
      "source": [
        "cm = confusion_matrix(y_val, classes)"
      ],
      "metadata": {
        "colab": {
          "base_uri": "https://localhost:8080/",
          "height": 293
        },
        "id": "h4FH8QM88t8g",
        "outputId": "83c90039-7a2a-4701-a8ea-6546bfe197bf"
      },
      "execution_count": null,
      "outputs": [
        {
          "output_type": "error",
          "ename": "ValueError",
          "evalue": "Found input variables with inconsistent numbers of samples: [128, 274]",
          "traceback": [
            "\u001b[0;31m---------------------------------------------------------------------------\u001b[0m",
            "\u001b[0;31mValueError\u001b[0m                                Traceback (most recent call last)",
            "\u001b[0;32m<ipython-input-63-1d42e8bf2490>\u001b[0m in \u001b[0;36m<cell line: 1>\u001b[0;34m()\u001b[0m\n\u001b[0;32m----> 1\u001b[0;31m \u001b[0mcm\u001b[0m \u001b[0;34m=\u001b[0m \u001b[0mconfusion_matrix\u001b[0m\u001b[0;34m(\u001b[0m\u001b[0my_val\u001b[0m\u001b[0;34m,\u001b[0m \u001b[0mclasses\u001b[0m\u001b[0;34m)\u001b[0m\u001b[0;34m\u001b[0m\u001b[0;34m\u001b[0m\u001b[0m\n\u001b[0m",
            "\u001b[0;32m/usr/local/lib/python3.10/dist-packages/sklearn/metrics/_classification.py\u001b[0m in \u001b[0;36mconfusion_matrix\u001b[0;34m(y_true, y_pred, labels, sample_weight, normalize)\u001b[0m\n\u001b[1;32m    315\u001b[0m     \u001b[0;34m(\u001b[0m\u001b[0;36m0\u001b[0m\u001b[0;34m,\u001b[0m \u001b[0;36m2\u001b[0m\u001b[0;34m,\u001b[0m \u001b[0;36m1\u001b[0m\u001b[0;34m,\u001b[0m \u001b[0;36m1\u001b[0m\u001b[0;34m)\u001b[0m\u001b[0;34m\u001b[0m\u001b[0;34m\u001b[0m\u001b[0m\n\u001b[1;32m    316\u001b[0m     \"\"\"\n\u001b[0;32m--> 317\u001b[0;31m     \u001b[0my_type\u001b[0m\u001b[0;34m,\u001b[0m \u001b[0my_true\u001b[0m\u001b[0;34m,\u001b[0m \u001b[0my_pred\u001b[0m \u001b[0;34m=\u001b[0m \u001b[0m_check_targets\u001b[0m\u001b[0;34m(\u001b[0m\u001b[0my_true\u001b[0m\u001b[0;34m,\u001b[0m \u001b[0my_pred\u001b[0m\u001b[0;34m)\u001b[0m\u001b[0;34m\u001b[0m\u001b[0;34m\u001b[0m\u001b[0m\n\u001b[0m\u001b[1;32m    318\u001b[0m     \u001b[0;32mif\u001b[0m \u001b[0my_type\u001b[0m \u001b[0;32mnot\u001b[0m \u001b[0;32min\u001b[0m \u001b[0;34m(\u001b[0m\u001b[0;34m\"binary\"\u001b[0m\u001b[0;34m,\u001b[0m \u001b[0;34m\"multiclass\"\u001b[0m\u001b[0;34m)\u001b[0m\u001b[0;34m:\u001b[0m\u001b[0;34m\u001b[0m\u001b[0;34m\u001b[0m\u001b[0m\n\u001b[1;32m    319\u001b[0m         \u001b[0;32mraise\u001b[0m \u001b[0mValueError\u001b[0m\u001b[0;34m(\u001b[0m\u001b[0;34m\"%s is not supported\"\u001b[0m \u001b[0;34m%\u001b[0m \u001b[0my_type\u001b[0m\u001b[0;34m)\u001b[0m\u001b[0;34m\u001b[0m\u001b[0;34m\u001b[0m\u001b[0m\n",
            "\u001b[0;32m/usr/local/lib/python3.10/dist-packages/sklearn/metrics/_classification.py\u001b[0m in \u001b[0;36m_check_targets\u001b[0;34m(y_true, y_pred)\u001b[0m\n\u001b[1;32m     84\u001b[0m     \u001b[0my_pred\u001b[0m \u001b[0;34m:\u001b[0m \u001b[0marray\u001b[0m \u001b[0;32mor\u001b[0m \u001b[0mindicator\u001b[0m \u001b[0mmatrix\u001b[0m\u001b[0;34m\u001b[0m\u001b[0;34m\u001b[0m\u001b[0m\n\u001b[1;32m     85\u001b[0m     \"\"\"\n\u001b[0;32m---> 86\u001b[0;31m     \u001b[0mcheck_consistent_length\u001b[0m\u001b[0;34m(\u001b[0m\u001b[0my_true\u001b[0m\u001b[0;34m,\u001b[0m \u001b[0my_pred\u001b[0m\u001b[0;34m)\u001b[0m\u001b[0;34m\u001b[0m\u001b[0;34m\u001b[0m\u001b[0m\n\u001b[0m\u001b[1;32m     87\u001b[0m     \u001b[0mtype_true\u001b[0m \u001b[0;34m=\u001b[0m \u001b[0mtype_of_target\u001b[0m\u001b[0;34m(\u001b[0m\u001b[0my_true\u001b[0m\u001b[0;34m,\u001b[0m \u001b[0minput_name\u001b[0m\u001b[0;34m=\u001b[0m\u001b[0;34m\"y_true\"\u001b[0m\u001b[0;34m)\u001b[0m\u001b[0;34m\u001b[0m\u001b[0;34m\u001b[0m\u001b[0m\n\u001b[1;32m     88\u001b[0m     \u001b[0mtype_pred\u001b[0m \u001b[0;34m=\u001b[0m \u001b[0mtype_of_target\u001b[0m\u001b[0;34m(\u001b[0m\u001b[0my_pred\u001b[0m\u001b[0;34m,\u001b[0m \u001b[0minput_name\u001b[0m\u001b[0;34m=\u001b[0m\u001b[0;34m\"y_pred\"\u001b[0m\u001b[0;34m)\u001b[0m\u001b[0;34m\u001b[0m\u001b[0;34m\u001b[0m\u001b[0m\n",
            "\u001b[0;32m/usr/local/lib/python3.10/dist-packages/sklearn/utils/validation.py\u001b[0m in \u001b[0;36mcheck_consistent_length\u001b[0;34m(*arrays)\u001b[0m\n\u001b[1;32m    395\u001b[0m     \u001b[0muniques\u001b[0m \u001b[0;34m=\u001b[0m \u001b[0mnp\u001b[0m\u001b[0;34m.\u001b[0m\u001b[0munique\u001b[0m\u001b[0;34m(\u001b[0m\u001b[0mlengths\u001b[0m\u001b[0;34m)\u001b[0m\u001b[0;34m\u001b[0m\u001b[0;34m\u001b[0m\u001b[0m\n\u001b[1;32m    396\u001b[0m     \u001b[0;32mif\u001b[0m \u001b[0mlen\u001b[0m\u001b[0;34m(\u001b[0m\u001b[0muniques\u001b[0m\u001b[0;34m)\u001b[0m \u001b[0;34m>\u001b[0m \u001b[0;36m1\u001b[0m\u001b[0;34m:\u001b[0m\u001b[0;34m\u001b[0m\u001b[0;34m\u001b[0m\u001b[0m\n\u001b[0;32m--> 397\u001b[0;31m         raise ValueError(\n\u001b[0m\u001b[1;32m    398\u001b[0m             \u001b[0;34m\"Found input variables with inconsistent numbers of samples: %r\"\u001b[0m\u001b[0;34m\u001b[0m\u001b[0;34m\u001b[0m\u001b[0m\n\u001b[1;32m    399\u001b[0m             \u001b[0;34m%\u001b[0m \u001b[0;34m[\u001b[0m\u001b[0mint\u001b[0m\u001b[0;34m(\u001b[0m\u001b[0ml\u001b[0m\u001b[0;34m)\u001b[0m \u001b[0;32mfor\u001b[0m \u001b[0ml\u001b[0m \u001b[0;32min\u001b[0m \u001b[0mlengths\u001b[0m\u001b[0;34m]\u001b[0m\u001b[0;34m\u001b[0m\u001b[0;34m\u001b[0m\u001b[0m\n",
            "\u001b[0;31mValueError\u001b[0m: Found input variables with inconsistent numbers of samples: [128, 274]"
          ]
        }
      ]
    },
    {
      "cell_type": "code",
      "source": [
        "plt.figure(figsize=(6,6))\n",
        "sns.heatmap(cm, annot=True, fmt='d', cmap='Blues', cbar=False)\n",
        "plt.xlabel('Predicted Label')\n",
        "plt.ylabel('True Label')\n",
        "plt.title('Confusion Matrix')\n",
        "plt.show()\n",
        "from sklearn.metrics import roc_curve, auc"
      ],
      "metadata": {
        "id": "8rizXRf78KO4"
      },
      "execution_count": null,
      "outputs": []
    }
  ]
}